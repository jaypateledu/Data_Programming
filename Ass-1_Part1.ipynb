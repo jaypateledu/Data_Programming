{
 "cells": [
  {
   "cell_type": "code",
   "execution_count": 1,
   "id": "65439bec",
   "metadata": {},
   "outputs": [
    {
     "ename": "Unhandled Exception",
     "evalue": "(3,3): error CS1002: ; expected\r\n(3,3): error CS7017: Member definition, statement, or end-of-file expected\r\n(3,12): error CS1002: ; expected\r\n(4,5): error CS1002: ; expected\r\n(4,5): error CS7017: Member definition, statement, or end-of-file expected\r\n(4,12): error CS1002: ; expected\r\n(5,7): error CS1002: ; expected\r\n(5,7): error CS7017: Member definition, statement, or end-of-file expected\r\n(5,16): error CS1002: ; expected\r\n(6,5): error CS1002: ; expected\r\n(6,5): error CS7017: Member definition, statement, or end-of-file expected\r\n(6,16): error CS1002: ; expected\r\n(7,7): error CS1002: ; expected\r\n(7,7): error CS7017: Member definition, statement, or end-of-file expected\r\n(7,16): error CS1002: ; expected\r\n(8,9): error CS1002: ; expected\r\n(8,9): error CS7017: Member definition, statement, or end-of-file expected\r\n(8,17): error CS1002: ; expected\r\n(9,11): error CS1002: ; expected\r\n(9,11): error CS7017: Member definition, statement, or end-of-file expected\r\n(9,20): error CS1002: ; expected\r\n(10,7): error CS1002: ; expected\r\n(10,7): error CS7017: Member definition, statement, or end-of-file expected\r\n(10,14): error CS1002: ; expected\r\n(11,7): error CS1002: ; expected\r\n(11,7): error CS7017: Member definition, statement, or end-of-file expected\r\n(11,16): error CS1002: ; expected\r\n(12,3): error CS1002: ; expected\r\n(12,3): error CS1513: } expected\r\n(12,6): error CS1002: ; expected\r\n(12,6): error CS1513: } expected\r\n(12,9): error CS1002: ; expected\r\n(12,11): error CS7017: Member definition, statement, or end-of-file expected\r\n(12,18): error CS1002: ; expected\r\n(13,8): error CS1002: ; expected\r\n(13,8): error CS7017: Member definition, statement, or end-of-file expected\r\n(14,19): error CS1018: Keyword 'this' or 'base' expected\r\n(14,19): error CS1002: ; expected",
     "output_type": "error",
     "traceback": [
      "(3,3): error CS1002: ; expected\r\n(3,3): error CS7017: Member definition, statement, or end-of-file expected\r\n(3,12): error CS1002: ; expected\r\n(4,5): error CS1002: ; expected\r\n(4,5): error CS7017: Member definition, statement, or end-of-file expected\r\n(4,12): error CS1002: ; expected\r\n(5,7): error CS1002: ; expected\r\n(5,7): error CS7017: Member definition, statement, or end-of-file expected\r\n(5,16): error CS1002: ; expected\r\n(6,5): error CS1002: ; expected\r\n(6,5): error CS7017: Member definition, statement, or end-of-file expected\r\n(6,16): error CS1002: ; expected\r\n(7,7): error CS1002: ; expected\r\n(7,7): error CS7017: Member definition, statement, or end-of-file expected\r\n(7,16): error CS1002: ; expected\r\n(8,9): error CS1002: ; expected\r\n(8,9): error CS7017: Member definition, statement, or end-of-file expected\r\n(8,17): error CS1002: ; expected\r\n(9,11): error CS1002: ; expected\r\n(9,11): error CS7017: Member definition, statement, or end-of-file expected\r\n(9,20): error CS1002: ; expected\r\n(10,7): error CS1002: ; expected\r\n(10,7): error CS7017: Member definition, statement, or end-of-file expected\r\n(10,14): error CS1002: ; expected\r\n(11,7): error CS1002: ; expected\r\n(11,7): error CS7017: Member definition, statement, or end-of-file expected\r\n(11,16): error CS1002: ; expected\r\n(12,3): error CS1002: ; expected\r\n(12,3): error CS1513: } expected\r\n(12,6): error CS1002: ; expected\r\n(12,6): error CS1513: } expected\r\n(12,9): error CS1002: ; expected\r\n(12,11): error CS7017: Member definition, statement, or end-of-file expected\r\n(12,18): error CS1002: ; expected\r\n(13,8): error CS1002: ; expected\r\n(13,8): error CS7017: Member definition, statement, or end-of-file expected\r\n(14,19): error CS1018: Keyword 'this' or 'base' expected\r\n(14,19): error CS1002: ; expected"
     ]
    }
   ],
   "source": [
    "//Q 1:\n",
    "\n",
    "5 : Integer\n",
    "5.0 : Float\n",
    "5 > 1 : Boolean\n",
    "'5' : Character\n",
    "5 * 2 : Integer\n",
    "'5' * 2 : String\n",
    "'5' + '2' : Integer\n",
    "5 / 2 : Float\n",
    "5 % 2 : Integer\n",
    "{5, 2, 1} : Array\n",
    "5 == 3 : Boolean\n",
    "Pi (the number) : Float\n"
   ]
  },
  {
   "cell_type": "code",
   "execution_count": 2,
   "id": "d94f5bc2",
   "metadata": {},
   "outputs": [],
   "source": [
    "//Q 3:\n",
    "\n",
    "class abc\n",
    "{\n",
    "    public void triangleArea(double a, double b, double c)\n",
    "    {\n",
    "        double s = (a + b + c) / 2; \n",
    "        Console.WriteLine(Math.Sqrt(s * (s - a) * (s - b) * (s - c)));\n",
    "    }\n",
    "}"
   ]
  },
  {
   "cell_type": "code",
   "execution_count": 3,
   "id": "41050716",
   "metadata": {},
   "outputs": [
    {
     "name": "stdout",
     "output_type": "stream",
     "text": [
      "1.7320508075688772\r\n"
     ]
    }
   ],
   "source": [
    "abc NewE = new abc();\n",
    "NewE.triangleArea(2, 2, 2);"
   ]
  },
  {
   "cell_type": "code",
   "execution_count": 4,
   "id": "f102814a",
   "metadata": {},
   "outputs": [
    {
     "ename": "Unhandled Exception",
     "evalue": "(31,11): error CS1501: No overload for method 'Sort' takes 0 arguments\r\n(34,33): error CS0019: Operator '-' cannot be applied to operands of type 'method group' and 'int'",
     "output_type": "error",
     "traceback": [
      "(31,11): error CS1501: No overload for method 'Sort' takes 0 arguments\r\n(34,33): error CS0019: Operator '-' cannot be applied to operands of type 'method group' and 'int'"
     ]
    }
   ],
   "source": [
    "//Q 2:\n",
    "\n",
    "//A\n",
    "\n",
    "string input =\"Supercalifragilisticexpialidocious\";\n",
    "Console.WriteLine(input.Length);\n",
    "\n",
    "//B\n",
    "\n",
    "Console.WriteLine(input.Contains(\"ice\"));\n",
    "\n",
    "//C\n",
    "\n",
    "string[] wordset = {\"Honorificabilitudinitatibus\", \"Bababadalgharaghtakamminarronnkonn\", \"Supercalifragilisticexpialidocious\"};\n",
    "\n",
    "string longest = wordset[0];\n",
    "foreach (string word in wordset)\n",
    "{\n",
    "    if (word.Length > longest.Length)\n",
    "    {\n",
    "        longest = word;\n",
    "    }\n",
    "}\n",
    "Console.WriteLine(longest);\n",
    "\n",
    "//here both words have same lenghth but it prints a word which is taken first.\n",
    "\n",
    "//D\n",
    "\n",
    "string[] composers = {\"Berlioz\", \"Borodin\", \"Brian\", \"Bartok\", \"Bellini\", \"Buxtehude\", \"Bernstein\"};\n",
    "composers.Sort();\n",
    "\n",
    "string firstComposer = composers[0];\n",
    "string lastComposer = composers[composers.Count - 1];\n",
    "Console.WriteLine(firstComposer);\n",
    "Console.WriteLine(lastComposer);\n",
    "\n"
   ]
  },
  {
   "cell_type": "code",
   "execution_count": 5,
   "id": "b1f7514f",
   "metadata": {},
   "outputs": [],
   "source": [
    "// Q 5\n",
    "\n",
    "void inside(double x, double y, double x1, double y1, double x2, double y2) \n",
    "{\n",
    "    if(x >= x1 && x <= x2 && y >= y1 && y <= y2)\n",
    "    {\n",
    "        Console.WriteLine(\"True\");\n",
    "    }\n",
    "    else\n",
    "    {\n",
    "        Console.WriteLine(\"False\");\n",
    "    }\n",
    "}\n",
    "\n"
   ]
  },
  {
   "cell_type": "code",
   "execution_count": 6,
   "id": "1c33a54e",
   "metadata": {},
   "outputs": [
    {
     "name": "stdout",
     "output_type": "stream",
     "text": [
      "True\n",
      "False\n",
      "False\n",
      "True\n"
     ]
    }
   ],
   "source": [
    "inside(1,1,0,0,2,3);\n",
    "inside(-1,-1,0,0,2,3);\n",
    "inside(1, 1, 0.3, 0.5, 1.1, 0.7);\n",
    "inside(1, 1, 0.5, 0.2, 1.1, 2);\n"
   ]
  },
  {
   "cell_type": "code",
   "execution_count": 7,
   "id": "ad69c47c",
   "metadata": {},
   "outputs": [],
   "source": [
    "// Q 4\n",
    "\n",
    "    class Program\n",
    "    {\n",
    "        static void Main(string[] args)\n",
    "        {\n",
    "            Console.Write(\"Input the number of elements to be stored in the array: \");\n",
    "            int n = int.Parse(Console.ReadLine());\n",
    "\n",
    "            int[] arr = new int[n];\n",
    "\n",
    "            Console.WriteLine(\"Input {0} elements in the array:\", n);\n",
    "            for (int i = 0; i < n; i++)\n",
    "            {\n",
    "                Console.Write(\"element - {0}: \", i);\n",
    "                arr[i] = int.Parse(Console.ReadLine());\n",
    "            }\n",
    "\n",
    "            int[] even = new int[n];\n",
    "            int[] odd = new int[n];\n",
    "            int evenIndex = 0;\n",
    "            int oddIndex = 0;\n",
    "\n",
    "            foreach (int num in arr)\n",
    "            {\n",
    "                if (num % 2 == 0)\n",
    "                {\n",
    "                    even[evenIndex++] = num;\n",
    "                }\n",
    "                else\n",
    "                {\n",
    "                    odd[oddIndex++] = num;\n",
    "                }\n",
    "            }\n",
    "\n",
    "            Console.WriteLine(\"The Even elements are:\");\n",
    "            for (int i = 0; i < evenIndex; i++)\n",
    "            {\n",
    "                Console.Write(\"{0} \", even[i]);\n",
    "            }\n",
    "            Console.WriteLine();\n",
    "\n",
    "            Console.WriteLine(\"The Odd elements are:\");\n",
    "            for (int i = 0; i < oddIndex; i++)\n",
    "            {\n",
    "                Console.Write(\"{0} \", odd[i]);\n",
    "            }\n",
    "            Console.WriteLine();\n",
    "        }\n",
    "    }"
   ]
  },
  {
   "cell_type": "code",
   "execution_count": null,
   "id": "5d6dffcf",
   "metadata": {},
   "outputs": [],
   "source": []
  },
  {
   "cell_type": "code",
   "execution_count": null,
   "id": "b76801dd",
   "metadata": {},
   "outputs": [],
   "source": []
  },
  {
   "cell_type": "code",
   "execution_count": null,
   "id": "a3615baf",
   "metadata": {},
   "outputs": [],
   "source": []
  },
  {
   "cell_type": "code",
   "execution_count": null,
   "id": "efb65311",
   "metadata": {},
   "outputs": [],
   "source": []
  },
  {
   "cell_type": "code",
   "execution_count": null,
   "id": "51dd1e94",
   "metadata": {},
   "outputs": [],
   "source": []
  }
 ],
 "metadata": {
  "kernelspec": {
   "display_name": ".NET (C#)",
   "language": "C#",
   "name": ".net-csharp"
  },
  "language_info": {
   "file_extension": ".cs",
   "mimetype": "text/x-csharp",
   "name": "C#",
   "pygments_lexer": "csharp",
   "version": "8.0"
  }
 },
 "nbformat": 4,
 "nbformat_minor": 5
}
