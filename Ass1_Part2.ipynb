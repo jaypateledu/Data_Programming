{
 "cells": [
  {
   "cell_type": "code",
   "execution_count": 24,
   "id": "d87bf914",
   "metadata": {},
   "outputs": [
    {
     "name": "stdout",
     "output_type": "stream",
     "text": [
      "enterway\n",
      "appyhay\n",
      "abcdway\n"
     ]
    }
   ],
   "source": [
    "#Q 6:\n",
    "\n",
    "def pig(text):\n",
    "    vowels = 'aeiou'\n",
    "    \n",
    "    text = text.lower()\n",
    "    if text[0] in vowels:\n",
    "        print(text + \"way\") \n",
    "    else:\n",
    "        print(text[1:] + text[0] + \"ay\") \n",
    "    \n",
    "pig ('enter')\n",
    "pig ('happy')\n",
    "pig ('ABCD')\n"
   ]
  },
  {
   "cell_type": "code",
   "execution_count": 38,
   "id": "d1a5b7c5",
   "metadata": {},
   "outputs": [
    {
     "name": "stdout",
     "output_type": "stream",
     "text": [
      "There is one patient of blood type AB AB B O A A AB O AB A O O A A A O O O AB O A A A A A AB AB A AB O AB O A O O O AB O AB AB AB A A O.\n"
     ]
    }
   ],
   "source": [
    "#Q 7:\n",
    "\n",
    "def bldcount(name):\n",
    "    with open('bloodtype1.txt', 'r') as f:\n",
    "        blood_types = [line.strip() for line in f]\n",
    "    \n",
    "    blood_type_counts = {}\n",
    "    for bt in blood_types:\n",
    "        if bt in blood_type_counts:\n",
    "            blood_type_counts[bt] += 1\n",
    "        else:\n",
    "            blood_type_counts[bt] = 1\n",
    "    \n",
    "    for bt, count in blood_type_counts.items():\n",
    "        if count > 1:\n",
    "            print(f\"There are {count} patients of blood type {bt}.\")\n",
    "        else:\n",
    "            print(f\"There is one patient of blood type {bt}.\")\n",
    "            \n",
    "bldcount('bloodtype1.txt')\n"
   ]
  },
  {
   "cell_type": "code",
   "execution_count": 45,
   "id": "a2bedb7a",
   "metadata": {},
   "outputs": [
    {
     "data": {
      "text/plain": [
       "16.514419999999998"
      ]
     },
     "execution_count": 45,
     "metadata": {},
     "output_type": "execute_result"
    }
   ],
   "source": [
    "#Q 8\n",
    "\n",
    "def curconv(currency, amount):\n",
    "    # Read the exchange rates from the file\n",
    "    with open(\"currencies.txt\", \"r\") as file:\n",
    "        rates = {line.split()[0]: float(line.split()[1]) for line in file}\n",
    "\n",
    "    # Return the converted amount\n",
    "    return amount * rates[currency]\n",
    "\n",
    "curconv('DKK', 100)\n"
   ]
  },
  {
   "cell_type": "code",
   "execution_count": 40,
   "id": "95af235e",
   "metadata": {},
   "outputs": [],
   "source": [
    "#Q 9:\n",
    "\n",
    "#Trying to add incompatible variables, as in adding 6 + ‘a’\n",
    "#Syntax Error: invalid character\n",
    "    \n",
    "#Referring to the 12th item of a list that has only 10 items.\n",
    "#IndexError: string index out of range\n",
    "\n",
    "#Using a value that is out of range for a function’s input, such as calling math.sqrt(-1.0).\n",
    "#math domain error\n",
    "\n",
    "#Using an undeclared variable, such as print(x) when x has not been defined.\n",
    "#NameError: name 'x' is not defined\n",
    "\n",
    "#Trying to open a file that does not exist, such as mistyping the file name or looking in the wrong directory.#\n",
    "#FileNotFoundError: [Errno 2] No such file or directory"
   ]
  },
  {
   "cell_type": "code",
   "execution_count": 39,
   "id": "4cb6f377",
   "metadata": {},
   "outputs": [
    {
     "name": "stdout",
     "output_type": "stream",
     "text": [
      "[1, 1, 1, 3, 5, 1, 1, 2, 1, 0, 1, 0, 1, 2, 4, 0, 1, 2, 0, 3, 1, 0, 1, 1, 0, 0]\n",
      "[1, 0, 0, 0, 1, 0, 0, 0, 0, 0, 0, 1, 0, 0, 0, 2, 0, 0, 0, 0, 0, 0, 0, 0, 0, 0]\n"
     ]
    }
   ],
   "source": [
    "#Q 10:\n",
    "\n",
    "def frequencies(string):\n",
    "    letters = 'abcdefghijklmnopqrstuvwxyz'\n",
    "    answer = [0] * 26\n",
    "    for char in string.lower():\n",
    "        if char in letters:\n",
    "            answer[letters.index(char)] = answer[letters.index(char)] + 1\n",
    "    return answer\n",
    "\n",
    "print(frequencies('The quick red fox got bored and went home.'))\n",
    "print(frequencies('apple'))\n"
   ]
  },
  {
   "cell_type": "code",
   "execution_count": 47,
   "id": "47badbb3",
   "metadata": {},
   "outputs": [
    {
     "name": "stdout",
     "output_type": "stream",
     "text": [
      "There are 28 patients of blood type A.\n",
      "There are 14 patients of blood type B.\n",
      "There are 0 patients of blood type AB.\n",
      "There are 15 patients of blood type O.\n",
      "There are 0 patients of blood type OO.\n"
     ]
    }
   ],
   "source": [
    "#Q 7:\n",
    "\n",
    "def bldcount(name):\n",
    "    with open(\"bloodtype1.txt\", 'r') as f:\n",
    "        bloodtypes = f.read()#.splitlines()\n",
    "        countA = 0\n",
    "        countB = 0\n",
    "        countAB = 0\n",
    "        countO = 0\n",
    "        countOO = 0\n",
    "        for line in bloodtypes:\n",
    "            if line.strip() ==  'A' :\n",
    "                countA += 1\n",
    "            elif line.strip() == 'B' :\n",
    "                countB += 1\n",
    "            elif line.strip() == 'AB':\n",
    "                countAB += 1\n",
    "            elif line.strip() == 'O':\n",
    "                countO += 1\n",
    "            elif line.strip() == 'OO':\n",
    "                countOO += 1\n",
    "\n",
    "    print(\"There are {} patients of blood type A.\".format(countA))\n",
    "    print(\"There are {} patients of blood type B.\".format(countB))\n",
    "    print(\"There are {} patients of blood type AB.\".format(countAB))\n",
    "    print(\"There are {} patients of blood type O.\".format(countO))\n",
    "    print(\"There are {} patients of blood type OO.\".format(countOO))\n",
    "\n",
    "bldcount(\"bloodtypes.txt\")"
   ]
  },
  {
   "cell_type": "code",
   "execution_count": null,
   "id": "826585f3",
   "metadata": {},
   "outputs": [],
   "source": []
  },
  {
   "cell_type": "code",
   "execution_count": null,
   "id": "dfd379ca",
   "metadata": {},
   "outputs": [],
   "source": []
  }
 ],
 "metadata": {
  "kernelspec": {
   "display_name": "Python 3 (ipykernel)",
   "language": "python",
   "name": "python3"
  },
  "language_info": {
   "codemirror_mode": {
    "name": "ipython",
    "version": 3
   },
   "file_extension": ".py",
   "mimetype": "text/x-python",
   "name": "python",
   "nbconvert_exporter": "python",
   "pygments_lexer": "ipython3",
   "version": "3.9.13"
  }
 },
 "nbformat": 4,
 "nbformat_minor": 5
}
